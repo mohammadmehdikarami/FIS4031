{
  "nbformat": 4,
  "nbformat_minor": 0,
  "metadata": {
    "colab": {
      "provenance": []
    },
    "kernelspec": {
      "name": "python3",
      "display_name": "Python 3"
    },
    "language_info": {
      "name": "python"
    }
  },
  "cells": [
    {
      "cell_type": "markdown",
      "source": [
        "# Regression"
      ],
      "metadata": {
        "id": "ao3rRsgdE6wg"
      }
    },
    {
      "cell_type": "markdown",
      "source": [
        "### Import necessary libraries"
      ],
      "metadata": {
        "id": "rKFFbZ0YFNfk"
      }
    },
    {
      "cell_type": "code",
      "source": [
        "import numpy as np\n",
        "import matplotlib.pyplot as plt\n",
        "from sklearn.model_selection import train_test_split\n",
        "from sklearn.preprocessing import PolynomialFeatures\n",
        "from sklearn.linear_model import LinearRegression\n",
        "from sklearn.tree import DecisionTreeRegressor\n",
        "from sklearn.ensemble import RandomForestRegressor"
      ],
      "metadata": {
        "id": "MfBvxsYwFQVQ"
      },
      "execution_count": 49,
      "outputs": []
    },
    {
      "cell_type": "markdown",
      "source": [
        "### Load the dataset"
      ],
      "metadata": {
        "id": "MURcl0K5FPyx"
      }
    },
    {
      "cell_type": "code",
      "source": [
        "y = np.load('data.npy')"
      ],
      "metadata": {
        "id": "GaD2Xi6QFQpl"
      },
      "execution_count": 50,
      "outputs": []
    },
    {
      "cell_type": "markdown",
      "source": [
        "## 2.1 Split the dataset into training and testing parts"
      ],
      "metadata": {
        "id": "xyes4vhHE_pT"
      }
    },
    {
      "cell_type": "markdown",
      "source": [
        "### Generate X values corresponding to y"
      ],
      "metadata": {
        "id": "YAHyNkpoJIhI"
      }
    },
    {
      "cell_type": "code",
      "source": [
        "X = np.linspace(-0.5, 12.5, len(y))"
      ],
      "metadata": {
        "id": "Mnk5Zil0JMgB"
      },
      "execution_count": 51,
      "outputs": []
    },
    {
      "cell_type": "markdown",
      "source": [
        "### Split the data into training and testing sets (80% training, 20% testing)"
      ],
      "metadata": {
        "id": "WFT_PevmFf69"
      }
    },
    {
      "cell_type": "code",
      "execution_count": 52,
      "metadata": {
        "id": "Mj2m9D3LAsBI"
      },
      "outputs": [],
      "source": [
        "X_train, X_test, y_train, y_test = train_test_split(X, y, test_size=0.2, random_state=73)"
      ]
    },
    {
      "cell_type": "markdown",
      "source": [
        "### Plot the training and testing data"
      ],
      "metadata": {
        "id": "Astlw1ffFmrO"
      }
    },
    {
      "cell_type": "code",
      "source": [
        "plt.scatter(X_train, y_train, color='blue', label='Train Data')  # Training data\n",
        "plt.scatter(X_test, y_test, color='red', label='Test Data')     # Testing data\n",
        "plt.legend()\n",
        "plt.xlabel('X')\n",
        "plt.ylabel('y')\n",
        "plt.title('Train and Test Data')\n",
        "plt.show()"
      ],
      "metadata": {
        "colab": {
          "base_uri": "https://localhost:8080/",
          "height": 472
        },
        "id": "sPPlGPmJFnZC",
        "outputId": "ef918db3-cc1d-443e-89b1-9b297eea5918"
      },
      "execution_count": 53,
      "outputs": [
        {
          "output_type": "display_data",
          "data": {
            "text/plain": [
              "<Figure size 640x480 with 1 Axes>"
            ],
            "image/png": "[encoded data removed]"
          },
          "metadata": {}
        }
      ]
    },
    {
      "cell_type": "markdown",
      "source": [
        "## 2.3 Train a first-degree linear regression model (without using built-in functions)"
      ],
      "metadata": {
        "id": "W4DwHaCQFpID"
      }
    },
    {
      "cell_type": "markdown",
      "source": [
        "### Add bias term (1) to the features for the regression model"
      ],
      "metadata": {
        "id": "2MbyfcYVF7nI"
      }
    },
    {
      "cell_type": "code",
      "source": [
        "X_train_b = np.c_[np.ones(X_train.shape[0]), X_train]  # Adding bias\n",
        "X_test_b = np.c_[np.ones(X_test.shape[0]), X_test]"
      ],
      "metadata": {
        "id": "3ocvieM4Fria"
      },
      "execution_count": 54,
      "outputs": []
    },
    {
      "cell_type": "markdown",
      "source": [
        "### Compute the coefficients using the Normal Equation"
      ],
      "metadata": {
        "id": "8--c--afF_eS"
      }
    },
    {
      "cell_type": "code",
      "source": [
        "theta = np.linalg.inv(X_train_b.T @ X_train_b) @ X_train_b.T @ y_train"
      ],
      "metadata": {
        "id": "DpmlYw1nF_2L"
      },
      "execution_count": 55,
      "outputs": []
    },
    {
      "cell_type": "markdown",
      "source": [
        "### Predictions"
      ],
      "metadata": {
        "id": "I9BYXfSsGDKA"
      }
    },
    {
      "cell_type": "code",
      "source": [
        "y_pred_train = X_train_b @ theta\n",
        "y_pred_test = X_test_b @ theta"
      ],
      "metadata": {
        "id": "KYxPk9X6GDcC"
      },
      "execution_count": 56,
      "outputs": []
    },
    {
      "cell_type": "markdown",
      "source": [
        "### Calculate the errors (MSE)"
      ],
      "metadata": {
        "id": "LRyafthYGG9F"
      }
    },
    {
      "cell_type": "code",
      "source": [
        "mse_train = np.mean((y_train - y_pred_train) ** 2)\n",
        "mse_test = np.mean((y_test - y_pred_test) ** 2)"
      ],
      "metadata": {
        "id": "Z7pk9zP8GHSN"
      },
      "execution_count": 57,
      "outputs": []
    },
    {
      "cell_type": "markdown",
      "source": [
        "### Print the MSE values"
      ],
      "metadata": {
        "id": "BGWDbbZBJvsa"
      }
    },
    {
      "cell_type": "code",
      "source": [
        "print(f\"MSE (Training): {mse_train:.4f}\")\n",
        "print(f\"MSE (Testing): {mse_test:.4f}\")"
      ],
      "metadata": {
        "colab": {
          "base_uri": "https://localhost:8080/"
        },
        "id": "_VRfgCy0JyHw",
        "outputId": "4e0584b4-ff49-4361-e713-84cd15eee6da"
      },
      "execution_count": 58,
      "outputs": [
        {
          "output_type": "stream",
          "name": "stdout",
          "text": [
            "MSE (Training): 141.0907\n",
            "MSE (Testing): 109.5645\n"
          ]
        }
      ]
    },
    {
      "cell_type": "markdown",
      "source": [
        "## 2.4 Training with increasing amounts of data"
      ],
      "metadata": {
        "id": "3TK1y4YjGPHm"
      }
    },
    {
      "cell_type": "markdown",
      "source": [
        "### List to store errors at each step"
      ],
      "metadata": {
        "id": "2uXvutPzGVsK"
      }
    },
    {
      "cell_type": "code",
      "source": [
        "errors_train = []\n",
        "errors_test = []"
      ],
      "metadata": {
        "id": "SlwotDphGVGY"
      },
      "execution_count": 59,
      "outputs": []
    },
    {
      "cell_type": "markdown",
      "source": [
        "### Loop over the training samples, adding one sample at a time"
      ],
      "metadata": {
        "id": "Br30wTWMGZFk"
      }
    },
    {
      "cell_type": "code",
      "source": [
        "for i in range(1, len(X_train) + 1):\n",
        "    X_train_partial = X_train[:i]  # Select the first i samples\n",
        "    y_train_partial = y_train[:i]\n",
        "\n",
        "    # Train the model on the selected data\n",
        "    X_train_b_partial = np.c_[np.ones(X_train_partial.shape[0]), X_train_partial]\n",
        "    theta_partial = np.linalg.pinv(X_train_b_partial.T @ X_train_b_partial) @ X_train_b_partial.T @ y_train_partial\n",
        "\n",
        "    # Predictions\n",
        "    y_pred_train_partial = X_train_b_partial @ theta_partial\n",
        "    y_pred_test_partial = X_test_b @ theta_partial\n",
        "\n",
        "    # Calculate the errors (MSE)\n",
        "    errors_train.append(np.mean((y_train_partial - y_pred_train_partial) ** 2))\n",
        "    errors_test.append(np.mean((y_test - y_pred_test_partial) ** 2))"
      ],
      "metadata": {
        "id": "GOEMH6hQGOcl"
      },
      "execution_count": 60,
      "outputs": []
    },
    {
      "cell_type": "markdown",
      "source": [
        "### Plot error vs. number of training samples"
      ],
      "metadata": {
        "id": "qPNbBX3nGdqb"
      }
    },
    {
      "cell_type": "code",
      "source": [
        "plt.plot(range(1, len(X_train) + 1), errors_train, label='Train Error')\n",
        "plt.plot(range(1, len(X_train) + 1), errors_test, label='Test Error')\n",
        "plt.legend()\n",
        "plt.xlabel('Number of Training Samples')\n",
        "plt.ylabel('MSE')\n",
        "plt.show()"
      ],
      "metadata": {
        "colab": {
          "base_uri": "https://localhost:8080/",
          "height": 449
        },
        "id": "hIJ3h9EJGd_3",
        "outputId": "01c3b855-25da-4104-9b3f-de6f1de78cf3"
      },
      "execution_count": 61,
      "outputs": [
        {
          "output_type": "display_data",
          "data": {
            "text/plain": [
              "<Figure size 640x480 with 1 Axes>"
            ],
            "image/png": "[encoded data removed]"
          },
          "metadata": {}
        }
      ]
    },
    {
      "cell_type": "markdown",
      "source": [
        "## 2.6 Adding polynomial features to the model"
      ],
      "metadata": {
        "id": "BxI4rz5_GiuX"
      }
    },
    {
      "cell_type": "code",
      "source": [
        "errors_poly = []\n",
        "degrees = [1, 2, 3, 4, 5]  # Testing polynomial degrees 1 through 5\n",
        "\n",
        "for degree in degrees:\n",
        "    # Reshape X_train and X_test to 2D arrays\n",
        "    X_train_reshaped = X_train.reshape(-1, 1)\n",
        "    X_test_reshaped = X_test.reshape(-1, 1)\n",
        "\n",
        "    poly = PolynomialFeatures(degree)\n",
        "\n",
        "    # Fit and transform the training data, and transform the test data\n",
        "    X_train_poly = poly.fit_transform(X_train_reshaped)\n",
        "    X_test_poly = poly.transform(X_test_reshaped)\n",
        "\n",
        "    # Train the linear regression model using the normal equation\n",
        "    theta_poly = np.linalg.inv(X_train_poly.T @ X_train_poly) @ X_train_poly.T @ y_train\n",
        "\n",
        "    # Make predictions\n",
        "    y_pred_train_poly = X_train_poly @ theta_poly\n",
        "    y_pred_test_poly = X_test_poly @ theta_poly\n",
        "\n",
        "    # Calculate errors (MSE)\n",
        "    errors_poly.append(np.mean((y_test - y_pred_test_poly) ** 2))"
      ],
      "metadata": {
        "id": "234PHTx3GjEv"
      },
      "execution_count": 62,
      "outputs": []
    },
    {
      "cell_type": "markdown",
      "source": [
        "### Plot error vs. polynomial degree"
      ],
      "metadata": {
        "id": "3KFG2UZDGoij"
      }
    },
    {
      "cell_type": "code",
      "source": [
        "plt.plot(degrees, errors_poly)\n",
        "plt.xlabel('Polynomial Degree')\n",
        "plt.ylabel('Test MSE')\n",
        "plt.show()"
      ],
      "metadata": {
        "colab": {
          "base_uri": "https://localhost:8080/",
          "height": 449
        },
        "id": "CI88bHPtGqUt",
        "outputId": "671ed6be-22d8-4043-8da8-bc995db88b90"
      },
      "execution_count": 63,
      "outputs": [
        {
          "output_type": "display_data",
          "data": {
            "text/plain": [
              "<Figure size 640x480 with 1 Axes>"
            ],
            "image/png": "[encoded data removed]"
          },
          "metadata": {}
        }
      ]
    },
    {
      "cell_type": "markdown",
      "source": [
        "## 2.7 Selecting and comparing three regression algorithms from Scikit-learn"
      ],
      "metadata": {
        "id": "ERT750mIGySI"
      }
    },
    {
      "cell_type": "markdown",
      "source": [
        "### Define the models to test"
      ],
      "metadata": {
        "id": "tUErfqYTG1zC"
      }
    },
    {
      "cell_type": "code",
      "source": [
        "models = [LinearRegression(), DecisionTreeRegressor(), RandomForestRegressor()]\n",
        "model_names = ['Linear Regression', 'Decision Tree', 'Random Forest']"
      ],
      "metadata": {
        "id": "IRryy37_Gxw_"
      },
      "execution_count": 64,
      "outputs": []
    },
    {
      "cell_type": "markdown",
      "source": [
        "### List to store errors at each step"
      ],
      "metadata": {
        "id": "fe-1brabG7O0"
      }
    },
    {
      "cell_type": "code",
      "source": [
        "errors = {}"
      ],
      "metadata": {
        "id": "O0mhUZU9G_qv"
      },
      "execution_count": 65,
      "outputs": []
    },
    {
      "cell_type": "markdown",
      "source": [
        "### Train and test each model"
      ],
      "metadata": {
        "id": "LG0sVBX9HCbp"
      }
    },
    {
      "cell_type": "code",
      "source": [
        "for model, name in zip(models, model_names):\n",
        "    # Reshape X_train and X_test to be 2D arrays\n",
        "    X_train_reshaped = X_train.reshape(-1, 1)\n",
        "    X_test_reshaped = X_test.reshape(-1, 1)\n",
        "\n",
        "    # Fit the model to the training data\n",
        "    model.fit(X_train_reshaped, y_train)\n",
        "\n",
        "    # Make predictions on the test data\n",
        "    y_pred_test = model.predict(X_test_reshaped)\n",
        "\n",
        "    # Calculate the mean squared error (MSE)\n",
        "    errors[name] = np.mean((y_test - y_pred_test) ** 2)"
      ],
      "metadata": {
        "id": "yhw_QnNOHE6V"
      },
      "execution_count": 66,
      "outputs": []
    },
    {
      "cell_type": "markdown",
      "source": [
        "### Print the errors for comparison"
      ],
      "metadata": {
        "id": "JvXIyqviHHZB"
      }
    },
    {
      "cell_type": "code",
      "source": [
        "print(errors)"
      ],
      "metadata": {
        "colab": {
          "base_uri": "https://localhost:8080/"
        },
        "id": "hKy3RaXsHHEm",
        "outputId": "e2a453ff-d1ad-451f-8738-ef9d1c6a8347"
      },
      "execution_count": 67,
      "outputs": [
        {
          "output_type": "stream",
          "name": "stdout",
          "text": [
            "{'Linear Regression': 109.56446248220216, 'Decision Tree': 29.762187802114557, 'Random Forest': 22.58439486955469}\n"
          ]
        }
      ]
    },
    {
      "cell_type": "markdown",
      "source": [
        "## Bonus: Using Regularization for polynomial models"
      ],
      "metadata": {
        "id": "3Am3f7PbHK_S"
      }
    },
    {
      "cell_type": "markdown",
      "source": [
        "### Regularized Polynomial Regression (Ridge)"
      ],
      "metadata": {
        "id": "UKTa22UHL_Qy"
      }
    },
    {
      "cell_type": "code",
      "source": [
        "def ridge_regression(X_train, y_train, X_test, y_test, degree, lambda_):\n",
        "    # Create polynomial features\n",
        "    poly = PolynomialFeatures(degree)\n",
        "    X_train_poly = poly.fit_transform(X_train.reshape(-1, 1))  # Transform training data to polynomial features\n",
        "    X_test_poly = poly.transform(X_test.reshape(-1, 1))  # Transform test data to polynomial features\n",
        "\n",
        "    # Add L2 regularization (Ridge regularization)\n",
        "    I = np.eye(X_train_poly.shape[1])  # Identity matrix\n",
        "    I[0, 0] = 0  # No regularization on the bias term (first element)\n",
        "\n",
        "    # Solve the ridge regression equation\n",
        "    theta = np.linalg.inv(X_train_poly.T @ X_train_poly + lambda_ * I) @ X_train_poly.T @ y_train\n",
        "\n",
        "    # Make predictions on the test data\n",
        "    y_pred_test = X_test_poly @ theta\n",
        "\n",
        "    # Calculate MSE\n",
        "    mse = np.mean((y_test - y_pred_test) ** 2)\n",
        "\n",
        "    return theta, y_pred_test, mse  # Return the coefficients, predictions, and MSE"
      ],
      "metadata": {
        "id": "eshagVFoL4XU"
      },
      "execution_count": 68,
      "outputs": []
    },
    {
      "cell_type": "markdown",
      "source": [
        "### Regularization parameter (lambda)"
      ],
      "metadata": {
        "id": "eS_fYCxKMEmO"
      }
    },
    {
      "cell_type": "code",
      "source": [
        "lambda_ = 0.1  # Regularization strength\n",
        "errors_ridge = []\n",
        "degrees = [1, 2, 3, 4, 5]  # Test polynomial degrees from 1 to 5"
      ],
      "metadata": {
        "id": "BlfHkCG7MCS1"
      },
      "execution_count": 69,
      "outputs": []
    },
    {
      "cell_type": "markdown",
      "source": [
        "### Loop through different polynomial degrees"
      ],
      "metadata": {
        "id": "SXEj1fEbMKE2"
      }
    },
    {
      "cell_type": "code",
      "source": [
        "for degree in degrees:\n",
        "    _, _, mse_ridge = ridge_regression(X_train, y_train, X_test, y_test, degree, lambda_)\n",
        "    errors_ridge.append(mse_ridge)  # Store the MSE for each degree"
      ],
      "metadata": {
        "id": "86cfI33pMHYQ"
      },
      "execution_count": 70,
      "outputs": []
    },
    {
      "cell_type": "markdown",
      "source": [
        "### Plot the error vs polynomial degree"
      ],
      "metadata": {
        "id": "t6fGb3TwMMVY"
      }
    },
    {
      "cell_type": "code",
      "source": [
        "plt.plot(degrees, errors_ridge)\n",
        "plt.xlabel('Polynomial Degree')\n",
        "plt.ylabel('Test MSE')\n",
        "plt.show()"
      ],
      "metadata": {
        "colab": {
          "base_uri": "https://localhost:8080/",
          "height": 449
        },
        "id": "M_fTYSznMMzV",
        "outputId": "88bb19a6-30da-486c-a4dd-7a650996b3be"
      },
      "execution_count": 71,
      "outputs": [
        {
          "output_type": "display_data",
          "data": {
            "text/plain": [
              "<Figure size 640x480 with 1 Axes>"
            ],
            "image/png": "[encoded data removed]"
          },
          "metadata": {}
        }
      ]
    }
  ]
}